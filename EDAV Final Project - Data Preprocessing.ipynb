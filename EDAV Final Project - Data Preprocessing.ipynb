{
 "cells": [
  {
   "cell_type": "code",
   "execution_count": null,
   "metadata": {},
   "outputs": [],
   "source": [
    "##Read data from JSON file\n",
    "\n",
    "import json  \n",
    "import pandas as pd\n",
    "\n",
    "yelp_bus = []\n",
    "with open('yelp_academic_dataset_business.json') as f:\n",
    "    for line in f:\n",
    "        yelp_bus.append(json.loads(line))"
   ]
  },
  {
   "cell_type": "code",
   "execution_count": null,
   "metadata": {},
   "outputs": [],
   "source": [
    "yelp_bus = pd.DataFrame(yelp_bus)"
   ]
  },
  {
   "cell_type": "code",
   "execution_count": null,
   "metadata": {},
   "outputs": [],
   "source": [
    "yelp_bus.to_csv(\"yelp_business.csv\")"
   ]
  },
  {
   "cell_type": "code",
   "execution_count": null,
   "metadata": {},
   "outputs": [],
   "source": [
    "yelp_bus.head()"
   ]
  },
  {
   "cell_type": "code",
   "execution_count": null,
   "metadata": {},
   "outputs": [],
   "source": [
    "yelp_bus.state.unique()"
   ]
  },
  {
   "cell_type": "code",
   "execution_count": null,
   "metadata": {},
   "outputs": [],
   "source": [
    "yelp_bus.describe(include = 'all')"
   ]
  },
  {
   "cell_type": "code",
   "execution_count": null,
   "metadata": {},
   "outputs": [],
   "source": [
    "yelp_review = []\n",
    "with open('yelp_academic_dataset_review.json') as f:\n",
    "    for line in f:\n",
    "        yelp_review.append(json.loads(line))\n",
    "        \n",
    "yelp_review = pd.DataFrame(yelp_review)"
   ]
  },
  {
   "cell_type": "code",
   "execution_count": null,
   "metadata": {},
   "outputs": [],
   "source": [
    "yelp_user = []\n",
    "with open('yelp_academic_dataset_user.json') as f:\n",
    "    for line in f:\n",
    "        yelp_user.append(json.loads(line))\n",
    "        \n",
    "yelp_user = pd.DataFrame(yelp_user)"
   ]
  },
  {
   "cell_type": "code",
   "execution_count": null,
   "metadata": {},
   "outputs": [],
   "source": [
    "yelp_tip = []\n",
    "with open('yelp_academic_dataset_tip.json') as f:\n",
    "    for line in f:\n",
    "        yelp_tip.append(json.loads(line))\n",
    "        \n",
    "yelp_tip = pd.DataFrame(yelp_tip)"
   ]
  },
  {
   "cell_type": "code",
   "execution_count": null,
   "metadata": {},
   "outputs": [],
   "source": [
    "yelp_review.to_csv(\"yelp_review.csv\")\n",
    "\n",
    "yelp_user.to_csv(\"yelp_user.csv\")\n",
    "\n",
    "yelp_tip.to_csv(\"yelp_tip.csv\")\n"
   ]
  },
  {
   "cell_type": "code",
   "execution_count": null,
   "metadata": {},
   "outputs": [],
   "source": [
    "yelp_review.head(15)"
   ]
  },
  {
   "cell_type": "code",
   "execution_count": null,
   "metadata": {},
   "outputs": [],
   "source": [
    "review_small = yelp_review.sample(frac = 0.2)"
   ]
  },
  {
   "cell_type": "code",
   "execution_count": null,
   "metadata": {},
   "outputs": [],
   "source": [
    "#review_group = yelp_review.groupby('business_id')['text'].apply(list)"
   ]
  },
  {
   "cell_type": "code",
   "execution_count": null,
   "metadata": {},
   "outputs": [],
   "source": [
    "review_groupby_stars = yelp_review.groupby('stars')['text'].apply(list)"
   ]
  },
  {
   "cell_type": "code",
   "execution_count": null,
   "metadata": {},
   "outputs": [],
   "source": [
    "review_groupby_stars_small = review_small.groupby('stars')['text'].apply(list)"
   ]
  },
  {
   "cell_type": "code",
   "execution_count": null,
   "metadata": {},
   "outputs": [],
   "source": [
    "review_groupby_stars_small.to_csv(\"Group By Stars Review Small.csv\")"
   ]
  },
  {
   "cell_type": "code",
   "execution_count": null,
   "metadata": {},
   "outputs": [],
   "source": [
    "review_group.to_csv(\"Grouped Review.csv\")"
   ]
  },
  {
   "cell_type": "code",
   "execution_count": null,
   "metadata": {},
   "outputs": [],
   "source": [
    "review_groupby_stars = review_groupby_stars[1:]\n",
    "review_groupby_stars.to_csv(\"Group By Stars Review.csv\")"
   ]
  },
  {
   "cell_type": "code",
   "execution_count": null,
   "metadata": {},
   "outputs": [],
   "source": [
    "review_smaller = yelp_review.sample(frac = 0.001)\n",
    "review_groupby_stars_smaller = review_smaller.groupby('stars')['text'].apply(list)\n",
    "#review_groupby_stars_smaller = review_groupby_stars_smaller[1:]\n"
   ]
  },
  {
   "cell_type": "code",
   "execution_count": null,
   "metadata": {},
   "outputs": [],
   "source": [
    "#review_groupby_stars\n",
    "star1 = review_groupby_stars_smaller.iloc[0]\n",
    "with open(\"star1_review_s.txt\", \"w\") as output:\n",
    "    for review in star1:\n",
    "        output.write(review)\n",
    "        \n",
    "star2 = review_groupby_stars_smaller.iloc[1]\n",
    "with open(\"star2_review_s.txt\", \"w\") as output:\n",
    "    for review in star2:\n",
    "        output.write(review)    \n",
    "star3 = review_groupby_stars_smaller.iloc[2]\n",
    "with open(\"star3_review_s.txt\", \"w\") as output:\n",
    "    for review in star3:\n",
    "        output.write(review)\n",
    "        \n",
    "star4 = review_groupby_stars_smaller.iloc[3]\n",
    "with open(\"star4_review_s.txt\", \"w\") as output:\n",
    "    for review in star4:\n",
    "        output.write(review)\n",
    "        \n",
    "star5 = review_groupby_stars_smaller.iloc[4]\n",
    "with open(\"star5_review_s.txt\", \"w\") as output:\n",
    "    for review in star5:\n",
    "        output.write(review)"
   ]
  },
  {
   "cell_type": "code",
   "execution_count": null,
   "metadata": {},
   "outputs": [],
   "source": [
    "yelp_user.head(15)"
   ]
  },
  {
   "cell_type": "code",
   "execution_count": null,
   "metadata": {},
   "outputs": [],
   "source": [
    "yelp_tip.head(15)"
   ]
  }
 ],
 "metadata": {
  "kernelspec": {
   "display_name": "Python 3",
   "language": "python",
   "name": "python3"
  },
  "language_info": {
   "codemirror_mode": {
    "name": "ipython",
    "version": 3
   },
   "file_extension": ".py",
   "mimetype": "text/x-python",
   "name": "python",
   "nbconvert_exporter": "python",
   "pygments_lexer": "ipython3",
   "version": "3.7.0"
  }
 },
 "nbformat": 4,
 "nbformat_minor": 2
}
